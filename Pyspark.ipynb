{
 "cells": [
  {
   "cell_type": "code",
   "execution_count": 5,
   "id": "08a092ca-8391-4bc5-842d-860758e38516",
   "metadata": {},
   "outputs": [],
   "source": [
    "from pyspark.sql import SparkSession\n",
    "from pyspark.sql.types import *\n"
   ]
  },
  {
   "cell_type": "code",
   "execution_count": 6,
   "id": "b42ddcc9-ed30-4aed-8fda-14ddabadbdad",
   "metadata": {},
   "outputs": [],
   "source": [
    "# Initialize Spark session\n",
    "spark = SparkSession.builder.appName(\"example\").getOrCreate()"
   ]
  },
  {
   "cell_type": "code",
   "execution_count": 7,
   "id": "356adba6-858f-48da-a9f1-8f5072e0aa87",
   "metadata": {},
   "outputs": [],
   "source": [
    "# Read CSV file into DataFrame\n",
    "store_df = spark.read.csv('store.csv')\n"
   ]
  },
  {
   "cell_type": "code",
   "execution_count": 8,
   "id": "03b1ba3c-8888-425e-b3db-4546a9e20f84",
   "metadata": {},
   "outputs": [
    {
     "name": "stdout",
     "output_type": "stream",
     "text": [
      "+-----+---------+----------+-------------------+--------------------+--------------------+------+---------------+---------------+----------------+\n",
      "|  _c0|      _c1|       _c2|                _c3|                 _c4|                 _c5|   _c6|            _c7|            _c8|             _c9|\n",
      "+-----+---------+----------+-------------------+--------------------+--------------------+------+---------------+---------------+----------------+\n",
      "|Store|StoreType|Assortment|CompetitionDistance|CompetitionOpenSi...|CompetitionOpenSi...|Promo2|Promo2SinceWeek|Promo2SinceYear|   PromoInterval|\n",
      "|    1|        c|         a|               1270|                   9|                2008|     0|           NULL|           NULL|            NULL|\n",
      "|    2|        a|         a|                570|                  11|                2007|     1|             13|           2010| Jan,Apr,Jul,Oct|\n",
      "|    3|        a|         a|              14130|                  12|                2006|     1|             14|           2011| Jan,Apr,Jul,Oct|\n",
      "|    4|        c|         c|                620|                   9|                2009|     0|           NULL|           NULL|            NULL|\n",
      "|    5|        a|         a|              29910|                   4|                2015|     0|           NULL|           NULL|            NULL|\n",
      "|    6|        a|         a|                310|                  12|                2013|     0|           NULL|           NULL|            NULL|\n",
      "|    7|        a|         c|              24000|                   4|                2013|     0|           NULL|           NULL|            NULL|\n",
      "|    8|        a|         a|               7520|                  10|                2014|     0|           NULL|           NULL|            NULL|\n",
      "|    9|        a|         c|               2030|                   8|                2000|     0|           NULL|           NULL|            NULL|\n",
      "|   10|        a|         a|               3160|                   9|                2009|     0|           NULL|           NULL|            NULL|\n",
      "|   11|        a|         c|                960|                  11|                2011|     1|              1|           2012| Jan,Apr,Jul,Oct|\n",
      "|   12|        a|         c|               1070|                NULL|                NULL|     1|             13|           2010| Jan,Apr,Jul,Oct|\n",
      "|   13|        d|         a|                310|                NULL|                NULL|     1|             45|           2009| Feb,May,Aug,Nov|\n",
      "|   14|        a|         a|               1300|                   3|                2014|     1|             40|           2011| Jan,Apr,Jul,Oct|\n",
      "|   15|        d|         c|               4110|                   3|                2010|     1|             14|           2011| Jan,Apr,Jul,Oct|\n",
      "|   16|        a|         c|               3270|                NULL|                NULL|     0|           NULL|           NULL|            NULL|\n",
      "|   17|        a|         a|                 50|                  12|                2005|     1|             26|           2010| Jan,Apr,Jul,Oct|\n",
      "|   18|        d|         c|              13840|                   6|                2010|     1|             14|           2012| Jan,Apr,Jul,Oct|\n",
      "|   19|        a|         c|               3240|                NULL|                NULL|     1|             22|           2011|Mar,Jun,Sept,Dec|\n",
      "+-----+---------+----------+-------------------+--------------------+--------------------+------+---------------+---------------+----------------+\n",
      "only showing top 20 rows\n",
      "\n"
     ]
    }
   ],
   "source": [
    "# Show DataFrame\n",
    "store_df.show()\n"
   ]
  },
  {
   "cell_type": "code",
   "execution_count": 9,
   "id": "3383717d-86fd-4908-b744-39935ddd75b2",
   "metadata": {},
   "outputs": [],
   "source": [
    "# Define the schema\n",
    "Schema = StructType([\n",
    "    StructField('Store', StringType(), nullable=True),\n",
    "    StructField('StoreType', StringType(), nullable=True),\n",
    "    StructField('Assortment', StringType(), nullable=True),\n",
    "    StructField('CompetitionDistance', FloatType(), nullable=True),\n",
    "    StructField('CompetitionOpenSinceMonth', IntegerType(), nullable=True),\n",
    "    StructField('CompetitionOpenSinceYear', IntegerType(), nullable=True),\n",
    "    StructField('Promo2', IntegerType(), nullable=True),\n",
    "    StructField('Promo2SinceWeek', IntegerType(), nullable=True),\n",
    "    StructField('Promo2SinceYear', IntegerType(), nullable=True),\n",
    "    StructField('PromoInterval', StringType(), nullable=True)\n",
    "])\n"
   ]
  },
  {
   "cell_type": "code",
   "execution_count": 10,
   "id": "c2087527-4c7f-4539-9dca-72d81aabd61a",
   "metadata": {},
   "outputs": [],
   "source": [
    "# Initialize Spark session\n",
    "spark = SparkSession.builder.appName(\"example\").getOrCreate()"
   ]
  },
  {
   "cell_type": "code",
   "execution_count": 11,
   "id": "4a90d552-752e-4c37-bdc0-4dbdb3e61b68",
   "metadata": {},
   "outputs": [],
   "source": [
    "# Read CSV file into DataFrame with schema\n",
    "df = spark.read.option(\"header\", True).schema(Schema).csv('store.csv')\n"
   ]
  },
  {
   "cell_type": "code",
   "execution_count": 12,
   "id": "19feff2c-5636-4b88-9f3b-4a17adc73d42",
   "metadata": {},
   "outputs": [
    {
     "name": "stdout",
     "output_type": "stream",
     "text": [
      "+-----+---------+----------+-------------------+-------------------------+------------------------+------+---------------+---------------+----------------+\n",
      "|Store|StoreType|Assortment|CompetitionDistance|CompetitionOpenSinceMonth|CompetitionOpenSinceYear|Promo2|Promo2SinceWeek|Promo2SinceYear|   PromoInterval|\n",
      "+-----+---------+----------+-------------------+-------------------------+------------------------+------+---------------+---------------+----------------+\n",
      "|    1|        c|         a|             1270.0|                        9|                    2008|     0|           NULL|           NULL|            NULL|\n",
      "|    2|        a|         a|              570.0|                       11|                    2007|     1|             13|           2010| Jan,Apr,Jul,Oct|\n",
      "|    3|        a|         a|            14130.0|                       12|                    2006|     1|             14|           2011| Jan,Apr,Jul,Oct|\n",
      "|    4|        c|         c|              620.0|                        9|                    2009|     0|           NULL|           NULL|            NULL|\n",
      "|    5|        a|         a|            29910.0|                        4|                    2015|     0|           NULL|           NULL|            NULL|\n",
      "|    6|        a|         a|              310.0|                       12|                    2013|     0|           NULL|           NULL|            NULL|\n",
      "|    7|        a|         c|            24000.0|                        4|                    2013|     0|           NULL|           NULL|            NULL|\n",
      "|    8|        a|         a|             7520.0|                       10|                    2014|     0|           NULL|           NULL|            NULL|\n",
      "|    9|        a|         c|             2030.0|                        8|                    2000|     0|           NULL|           NULL|            NULL|\n",
      "|   10|        a|         a|             3160.0|                        9|                    2009|     0|           NULL|           NULL|            NULL|\n",
      "|   11|        a|         c|              960.0|                       11|                    2011|     1|              1|           2012| Jan,Apr,Jul,Oct|\n",
      "|   12|        a|         c|             1070.0|                     NULL|                    NULL|     1|             13|           2010| Jan,Apr,Jul,Oct|\n",
      "|   13|        d|         a|              310.0|                     NULL|                    NULL|     1|             45|           2009| Feb,May,Aug,Nov|\n",
      "|   14|        a|         a|             1300.0|                        3|                    2014|     1|             40|           2011| Jan,Apr,Jul,Oct|\n",
      "|   15|        d|         c|             4110.0|                        3|                    2010|     1|             14|           2011| Jan,Apr,Jul,Oct|\n",
      "|   16|        a|         c|             3270.0|                     NULL|                    NULL|     0|           NULL|           NULL|            NULL|\n",
      "|   17|        a|         a|               50.0|                       12|                    2005|     1|             26|           2010| Jan,Apr,Jul,Oct|\n",
      "|   18|        d|         c|            13840.0|                        6|                    2010|     1|             14|           2012| Jan,Apr,Jul,Oct|\n",
      "|   19|        a|         c|             3240.0|                     NULL|                    NULL|     1|             22|           2011|Mar,Jun,Sept,Dec|\n",
      "|   20|        d|         a|             2340.0|                        5|                    2009|     1|             40|           2014| Jan,Apr,Jul,Oct|\n",
      "+-----+---------+----------+-------------------+-------------------------+------------------------+------+---------------+---------------+----------------+\n",
      "only showing top 20 rows\n",
      "\n"
     ]
    }
   ],
   "source": [
    "# Show DataFrame\n",
    "df.show()"
   ]
  },
  {
   "cell_type": "code",
   "execution_count": 13,
   "id": "b35fc61f-87fd-4b6b-adbc-80273f75d659",
   "metadata": {},
   "outputs": [
    {
     "data": {
      "text/plain": [
       "[('Store', 'string'),\n",
       " ('StoreType', 'string'),\n",
       " ('Assortment', 'string'),\n",
       " ('CompetitionDistance', 'float'),\n",
       " ('CompetitionOpenSinceMonth', 'int'),\n",
       " ('CompetitionOpenSinceYear', 'int'),\n",
       " ('Promo2', 'int'),\n",
       " ('Promo2SinceWeek', 'int'),\n",
       " ('Promo2SinceYear', 'int'),\n",
       " ('PromoInterval', 'string')]"
      ]
     },
     "execution_count": 13,
     "metadata": {},
     "output_type": "execute_result"
    }
   ],
   "source": [
    "df.dtypes"
   ]
  },
  {
   "cell_type": "code",
   "execution_count": 14,
   "id": "19669c67-3dce-414c-a4e5-2c70cb050b51",
   "metadata": {},
   "outputs": [
    {
     "data": {
      "text/plain": [
       "1115"
      ]
     },
     "execution_count": 14,
     "metadata": {},
     "output_type": "execute_result"
    }
   ],
   "source": [
    "df.count()"
   ]
  },
  {
   "cell_type": "markdown",
   "id": "c4efc05b-a6c1-4419-9327-6f32ef07f431",
   "metadata": {},
   "source": [
    "DROPMALFORMED:\n",
    "We can drop invalid rows while reading the dataset by setting the read mode as “DROPMALFORMED”"
   ]
  },
  {
   "cell_type": "code",
   "execution_count": 16,
   "id": "50ad027a-8307-4d8c-ab4a-2330199280f5",
   "metadata": {},
   "outputs": [],
   "source": [
    "df_1 = spark.read.option(\"header\", True).option(\"mode\", 'DROPMALFORMED').csv('store.csv')\n"
   ]
  },
  {
   "cell_type": "code",
   "execution_count": 17,
   "id": "9c33cc11-1d7a-4e76-b9c9-aee2b9e1499b",
   "metadata": {},
   "outputs": [
    {
     "name": "stdout",
     "output_type": "stream",
     "text": [
      "+-----+---------+----------+-------------------+-------------------------+------------------------+------+---------------+---------------+----------------+\n",
      "|Store|StoreType|Assortment|CompetitionDistance|CompetitionOpenSinceMonth|CompetitionOpenSinceYear|Promo2|Promo2SinceWeek|Promo2SinceYear|   PromoInterval|\n",
      "+-----+---------+----------+-------------------+-------------------------+------------------------+------+---------------+---------------+----------------+\n",
      "|    1|        c|         a|             1270.0|                        9|                    2008|     0|              0|              0|            NULL|\n",
      "|    2|        a|         a|              570.0|                       11|                    2007|     1|             13|           2010| Jan,Apr,Jul,Oct|\n",
      "|    3|        a|         a|            14130.0|                       12|                    2006|     1|             14|           2011| Jan,Apr,Jul,Oct|\n",
      "|    4|        c|         c|              620.0|                        9|                    2009|     0|              0|              0|            NULL|\n",
      "|    5|        a|         a|            29910.0|                        4|                    2015|     0|              0|              0|            NULL|\n",
      "|    6|        a|         a|              310.0|                       12|                    2013|     0|              0|              0|            NULL|\n",
      "|    7|        a|         c|            24000.0|                        4|                    2013|     0|              0|              0|            NULL|\n",
      "|    8|        a|         a|             7520.0|                       10|                    2014|     0|              0|              0|            NULL|\n",
      "|    9|        a|         c|             2030.0|                        8|                    2000|     0|              0|              0|            NULL|\n",
      "|   10|        a|         a|             3160.0|                        9|                    2009|     0|              0|              0|            NULL|\n",
      "|   11|        a|         c|              960.0|                       11|                    2011|     1|              1|           2012| Jan,Apr,Jul,Oct|\n",
      "|   12|        a|         c|             1070.0|                        0|                       0|     1|             13|           2010| Jan,Apr,Jul,Oct|\n",
      "|   13|        d|         a|              310.0|                        0|                       0|     1|             45|           2009| Feb,May,Aug,Nov|\n",
      "|   14|        a|         a|             1300.0|                        3|                    2014|     1|             40|           2011| Jan,Apr,Jul,Oct|\n",
      "|   15|        d|         c|             4110.0|                        3|                    2010|     1|             14|           2011| Jan,Apr,Jul,Oct|\n",
      "|   16|        a|         c|             3270.0|                        0|                       0|     0|              0|              0|            NULL|\n",
      "|   17|        a|         a|               50.0|                       12|                    2005|     1|             26|           2010| Jan,Apr,Jul,Oct|\n",
      "|   18|        d|         c|            13840.0|                        6|                    2010|     1|             14|           2012| Jan,Apr,Jul,Oct|\n",
      "|   19|        a|         c|             3240.0|                        0|                       0|     1|             22|           2011|Mar,Jun,Sept,Dec|\n",
      "|   20|        d|         a|             2340.0|                        5|                    2009|     1|             40|           2014| Jan,Apr,Jul,Oct|\n",
      "+-----+---------+----------+-------------------+-------------------------+------------------------+------+---------------+---------------+----------------+\n",
      "only showing top 20 rows\n",
      "\n"
     ]
    }
   ],
   "source": [
    "df.fillna(value=0).show()"
   ]
  },
  {
   "cell_type": "code",
   "execution_count": 19,
   "id": "6d7d809a-f163-404e-b9ef-2db3865fc12e",
   "metadata": {},
   "outputs": [
    {
     "name": "stdout",
     "output_type": "stream",
     "text": [
      "+-----+---------+----------+-------------------+-------------------------+------------------------+------+---------------+---------------+----------------+\n",
      "|Store|StoreType|Assortment|CompetitionDistance|CompetitionOpenSinceMonth|CompetitionOpenSinceYear|Promo2|Promo2SinceWeek|Promo2SinceYear|   PromoInterval|\n",
      "+-----+---------+----------+-------------------+-------------------------+------------------------+------+---------------+---------------+----------------+\n",
      "|    1|        c|         a|             1270.0|                        9|                    2008|     0|            -99|            -99|            NULL|\n",
      "|    2|        a|         a|              570.0|                       11|                    2007|     1|             13|           2010| Jan,Apr,Jul,Oct|\n",
      "|    3|        a|         a|            14130.0|                       12|                    2006|     1|             14|           2011| Jan,Apr,Jul,Oct|\n",
      "|    4|        c|         c|              620.0|                        9|                    2009|     0|            -99|            -99|            NULL|\n",
      "|    5|        a|         a|            29910.0|                        4|                    2015|     0|            -99|            -99|            NULL|\n",
      "|    6|        a|         a|              310.0|                       12|                    2013|     0|            -99|            -99|            NULL|\n",
      "|    7|        a|         c|            24000.0|                        4|                    2013|     0|            -99|            -99|            NULL|\n",
      "|    8|        a|         a|             7520.0|                       10|                    2014|     0|            -99|            -99|            NULL|\n",
      "|    9|        a|         c|             2030.0|                        8|                    2000|     0|            -99|            -99|            NULL|\n",
      "|   10|        a|         a|             3160.0|                        9|                    2009|     0|            -99|            -99|            NULL|\n",
      "|   11|        a|         c|              960.0|                       11|                    2011|     1|              1|           2012| Jan,Apr,Jul,Oct|\n",
      "|   12|        a|         c|             1070.0|                     NULL|                    NULL|     1|             13|           2010| Jan,Apr,Jul,Oct|\n",
      "|   13|        d|         a|              310.0|                     NULL|                    NULL|     1|             45|           2009| Feb,May,Aug,Nov|\n",
      "|   14|        a|         a|             1300.0|                        3|                    2014|     1|             40|           2011| Jan,Apr,Jul,Oct|\n",
      "|   15|        d|         c|             4110.0|                        3|                    2010|     1|             14|           2011| Jan,Apr,Jul,Oct|\n",
      "|   16|        a|         c|             3270.0|                     NULL|                    NULL|     0|            -99|            -99|            NULL|\n",
      "|   17|        a|         a|               50.0|                       12|                    2005|     1|             26|           2010| Jan,Apr,Jul,Oct|\n",
      "|   18|        d|         c|            13840.0|                        6|                    2010|     1|             14|           2012| Jan,Apr,Jul,Oct|\n",
      "|   19|        a|         c|             3240.0|                     NULL|                    NULL|     1|             22|           2011|Mar,Jun,Sept,Dec|\n",
      "|   20|        d|         a|             2340.0|                        5|                    2009|     1|             40|           2014| Jan,Apr,Jul,Oct|\n",
      "+-----+---------+----------+-------------------+-------------------------+------------------------+------+---------------+---------------+----------------+\n",
      "only showing top 20 rows\n",
      "\n"
     ]
    }
   ],
   "source": [
    "df.fillna(value=-99,subset=[\"Promo2SinceWeek\",\"Promo2SinceYear\"]).show()"
   ]
  },
  {
   "cell_type": "markdown",
   "id": "b04074bf-eee0-462e-b560-3b4026846082",
   "metadata": {},
   "source": [
    "SELECT:\n",
    "We can select a specific column for analysis purpose, by passing argument count in the show we can select limited record"
   ]
  },
  {
   "cell_type": "code",
   "execution_count": 21,
   "id": "e0ee388d-a442-43df-a8db-1f5790e97d48",
   "metadata": {},
   "outputs": [
    {
     "name": "stdout",
     "output_type": "stream",
     "text": [
      "+-----+---------+\n",
      "|Store|StoreType|\n",
      "+-----+---------+\n",
      "|    1|        c|\n",
      "|    2|        a|\n",
      "+-----+---------+\n",
      "only showing top 2 rows\n",
      "\n"
     ]
    }
   ],
   "source": [
    "df_1.select('Store','StoreType').show(2)"
   ]
  },
  {
   "cell_type": "markdown",
   "id": "9afb6362-d55c-4828-9207-4d06fecc27ca",
   "metadata": {},
   "source": [
    "WHEN:\n",
    "In Spark we can conditionally replace values as we do in normal coding if-else. For that we can use when and otherwise methods on dataframe.\n",
    "\n",
    "Here we are creating a new column, with value equal to 1 if Promo2SinceYear > 2000 otherwise 0"
   ]
  },
  {
   "cell_type": "code",
   "execution_count": 25,
   "id": "65d2ca4a-8f37-4662-a5d5-9b5a16c3f732",
   "metadata": {},
   "outputs": [
    {
     "name": "stdout",
     "output_type": "stream",
     "text": [
      "+-----+---------+----------+-------------------+-------------------------+------------------------+------+---------------+---------------+----------------+-----------------+\n",
      "|Store|StoreType|Assortment|CompetitionDistance|CompetitionOpenSinceMonth|CompetitionOpenSinceYear|Promo2|Promo2SinceWeek|Promo2SinceYear|   PromoInterval|greater_than_2000|\n",
      "+-----+---------+----------+-------------------+-------------------------+------------------------+------+---------------+---------------+----------------+-----------------+\n",
      "|    1|        c|         a|             1270.0|                        9|                    2008|     0|           NULL|           NULL|            NULL|                0|\n",
      "|    2|        a|         a|              570.0|                       11|                    2007|     1|             13|           2010| Jan,Apr,Jul,Oct|                0|\n",
      "|    3|        a|         a|            14130.0|                       12|                    2006|     1|             14|           2011| Jan,Apr,Jul,Oct|                0|\n",
      "|    4|        c|         c|              620.0|                        9|                    2009|     0|           NULL|           NULL|            NULL|                0|\n",
      "|    5|        a|         a|            29910.0|                        4|                    2015|     0|           NULL|           NULL|            NULL|                0|\n",
      "|    6|        a|         a|              310.0|                       12|                    2013|     0|           NULL|           NULL|            NULL|                0|\n",
      "|    7|        a|         c|            24000.0|                        4|                    2013|     0|           NULL|           NULL|            NULL|                0|\n",
      "|    8|        a|         a|             7520.0|                       10|                    2014|     0|           NULL|           NULL|            NULL|                0|\n",
      "|    9|        a|         c|             2030.0|                        8|                    2000|     0|           NULL|           NULL|            NULL|                0|\n",
      "|   10|        a|         a|             3160.0|                        9|                    2009|     0|           NULL|           NULL|            NULL|                0|\n",
      "|   11|        a|         c|              960.0|                       11|                    2011|     1|              1|           2012| Jan,Apr,Jul,Oct|                0|\n",
      "|   12|        a|         c|             1070.0|                     NULL|                    NULL|     1|             13|           2010| Jan,Apr,Jul,Oct|                0|\n",
      "|   13|        d|         a|              310.0|                     NULL|                    NULL|     1|             45|           2009| Feb,May,Aug,Nov|                0|\n",
      "|   14|        a|         a|             1300.0|                        3|                    2014|     1|             40|           2011| Jan,Apr,Jul,Oct|                0|\n",
      "|   15|        d|         c|             4110.0|                        3|                    2010|     1|             14|           2011| Jan,Apr,Jul,Oct|                0|\n",
      "|   16|        a|         c|             3270.0|                     NULL|                    NULL|     0|           NULL|           NULL|            NULL|                0|\n",
      "|   17|        a|         a|               50.0|                       12|                    2005|     1|             26|           2010| Jan,Apr,Jul,Oct|                0|\n",
      "|   18|        d|         c|            13840.0|                        6|                    2010|     1|             14|           2012| Jan,Apr,Jul,Oct|                0|\n",
      "|   19|        a|         c|             3240.0|                     NULL|                    NULL|     1|             22|           2011|Mar,Jun,Sept,Dec|                0|\n",
      "|   20|        d|         a|             2340.0|                        5|                    2009|     1|             40|           2014| Jan,Apr,Jul,Oct|                0|\n",
      "+-----+---------+----------+-------------------+-------------------------+------------------------+------+---------------+---------------+----------------+-----------------+\n",
      "only showing top 20 rows\n",
      "\n"
     ]
    }
   ],
   "source": [
    "from pyspark.sql.functions import when\n",
    "\n",
    "# Assuming `df` is your DataFrame\n",
    "df.withColumn(\"greater_than_2000\", when(df.CompetitionDistance == 2000, 1).otherwise(0)).show()\n"
   ]
  },
  {
   "cell_type": "markdown",
   "id": "af19effb-c4b2-4269-9dbe-0a874ea6369f",
   "metadata": {},
   "source": [
    "FILTER:\n",
    "In the Data cleaning process, filtering plays an essential role, and good news is that it’s super simple to use filter method. Filter method is an alias of where method, so we can use where method as well instead of filter.\n",
    "\n"
   ]
  },
  {
   "cell_type": "code",
   "execution_count": 26,
   "id": "e58d5db9-299f-45cd-bfed-8f2bc074db76",
   "metadata": {},
   "outputs": [
    {
     "name": "stdout",
     "output_type": "stream",
     "text": [
      "+-----+---------+----------+-------------------+-------------------------+------------------------+------+---------------+---------------+---------------+\n",
      "|Store|StoreType|Assortment|CompetitionDistance|CompetitionOpenSinceMonth|CompetitionOpenSinceYear|Promo2|Promo2SinceWeek|Promo2SinceYear|  PromoInterval|\n",
      "+-----+---------+----------+-------------------+-------------------------+------------------------+------+---------------+---------------+---------------+\n",
      "|  128|        d|         c|             2000.0|                     NULL|                    NULL|     1|              1|           2013|Jan,Apr,Jul,Oct|\n",
      "+-----+---------+----------+-------------------+-------------------------+------------------------+------+---------------+---------------+---------------+\n",
      "\n"
     ]
    }
   ],
   "source": [
    "df.filter(df.CompetitionDistance==2000).show()"
   ]
  },
  {
   "cell_type": "markdown",
   "id": "25232781-564b-4bfd-810e-6f6b25e5ebd9",
   "metadata": {},
   "source": [
    "GROUP BY:\n",
    "Similar to the SQL GROUP BY clause, PySpark groupBy() function is used to collect the identical data into groups on DataFrame and perform aggregate functions on the grouped data."
   ]
  },
  {
   "cell_type": "code",
   "execution_count": 27,
   "id": "a819fd67-0da9-448b-a8cb-8c87f9e089a2",
   "metadata": {},
   "outputs": [
    {
     "name": "stdout",
     "output_type": "stream",
     "text": [
      "+---------------+\n",
      "|Promo2SinceWeek|\n",
      "+---------------+\n",
      "|             22|\n",
      "|             28|\n",
      "|             35|\n",
      "|              5|\n",
      "|             31|\n",
      "|             18|\n",
      "|             27|\n",
      "|             26|\n",
      "|              6|\n",
      "|             23|\n",
      "|             40|\n",
      "|             44|\n",
      "|             48|\n",
      "|              9|\n",
      "|              1|\n",
      "|             36|\n",
      "|             10|\n",
      "|             37|\n",
      "|             49|\n",
      "|             39|\n",
      "+---------------+\n",
      "only showing top 20 rows\n",
      "\n"
     ]
    }
   ],
   "source": [
    "df_1.select('StoreType','Promo2SinceWeek').groupby('Promo2SinceWeek').sum().show()"
   ]
  },
  {
   "cell_type": "code",
   "execution_count": 28,
   "id": "da267a49-cb1b-43a9-a405-9924515bc23b",
   "metadata": {},
   "outputs": [
    {
     "name": "stdout",
     "output_type": "stream",
     "text": [
      "+---------+------------------------+\n",
      "|storeType|avg(CompetitionDistance)|\n",
      "+---------+------------------------+\n",
      "|        d|       6913.063583815029|\n",
      "|        c|      3522.5675675675675|\n",
      "|        b|      1060.5882352941176|\n",
      "|        a|         5123.0615640599|\n",
      "+---------+------------------------+\n",
      "\n"
     ]
    }
   ],
   "source": [
    "df.groupBy(\"storeType\").mean(\"CompetitionDistance\").show()"
   ]
  },
  {
   "cell_type": "markdown",
   "id": "5f05fca6-4481-446b-92e5-5239d58a2adf",
   "metadata": {},
   "source": [
    "DROP:\n",
    "An undesirable column can be a drop from dataframe as well"
   ]
  },
  {
   "cell_type": "code",
   "execution_count": 29,
   "id": "0f4a45cc-3e6d-46b9-890e-7c0ae32ffd99",
   "metadata": {},
   "outputs": [
    {
     "name": "stdout",
     "output_type": "stream",
     "text": [
      "+-----+---------+-------------------+-------------------------+------------------------+------+---------------+---------------+----------------+\n",
      "|Store|StoreType|CompetitionDistance|CompetitionOpenSinceMonth|CompetitionOpenSinceYear|Promo2|Promo2SinceWeek|Promo2SinceYear|   PromoInterval|\n",
      "+-----+---------+-------------------+-------------------------+------------------------+------+---------------+---------------+----------------+\n",
      "|    1|        c|             1270.0|                        9|                    2008|     0|           NULL|           NULL|            NULL|\n",
      "|    2|        a|              570.0|                       11|                    2007|     1|             13|           2010| Jan,Apr,Jul,Oct|\n",
      "|    3|        a|            14130.0|                       12|                    2006|     1|             14|           2011| Jan,Apr,Jul,Oct|\n",
      "|    4|        c|              620.0|                        9|                    2009|     0|           NULL|           NULL|            NULL|\n",
      "|    5|        a|            29910.0|                        4|                    2015|     0|           NULL|           NULL|            NULL|\n",
      "|    6|        a|              310.0|                       12|                    2013|     0|           NULL|           NULL|            NULL|\n",
      "|    7|        a|            24000.0|                        4|                    2013|     0|           NULL|           NULL|            NULL|\n",
      "|    8|        a|             7520.0|                       10|                    2014|     0|           NULL|           NULL|            NULL|\n",
      "|    9|        a|             2030.0|                        8|                    2000|     0|           NULL|           NULL|            NULL|\n",
      "|   10|        a|             3160.0|                        9|                    2009|     0|           NULL|           NULL|            NULL|\n",
      "|   11|        a|              960.0|                       11|                    2011|     1|              1|           2012| Jan,Apr,Jul,Oct|\n",
      "|   12|        a|             1070.0|                     NULL|                    NULL|     1|             13|           2010| Jan,Apr,Jul,Oct|\n",
      "|   13|        d|              310.0|                     NULL|                    NULL|     1|             45|           2009| Feb,May,Aug,Nov|\n",
      "|   14|        a|             1300.0|                        3|                    2014|     1|             40|           2011| Jan,Apr,Jul,Oct|\n",
      "|   15|        d|             4110.0|                        3|                    2010|     1|             14|           2011| Jan,Apr,Jul,Oct|\n",
      "|   16|        a|             3270.0|                     NULL|                    NULL|     0|           NULL|           NULL|            NULL|\n",
      "|   17|        a|               50.0|                       12|                    2005|     1|             26|           2010| Jan,Apr,Jul,Oct|\n",
      "|   18|        d|            13840.0|                        6|                    2010|     1|             14|           2012| Jan,Apr,Jul,Oct|\n",
      "|   19|        a|             3240.0|                     NULL|                    NULL|     1|             22|           2011|Mar,Jun,Sept,Dec|\n",
      "|   20|        d|             2340.0|                        5|                    2009|     1|             40|           2014| Jan,Apr,Jul,Oct|\n",
      "+-----+---------+-------------------+-------------------------+------------------------+------+---------------+---------------+----------------+\n",
      "only showing top 20 rows\n",
      "\n"
     ]
    }
   ],
   "source": [
    "df=df.drop('Assortment')\n",
    "df.show()"
   ]
  },
  {
   "cell_type": "code",
   "execution_count": null,
   "id": "beefb568-7a78-471d-83eb-2abbfdff8811",
   "metadata": {},
   "outputs": [],
   "source": []
  }
 ],
 "metadata": {
  "kernelspec": {
   "display_name": "Python 3 (ipykernel)",
   "language": "python",
   "name": "python3"
  },
  "language_info": {
   "codemirror_mode": {
    "name": "ipython",
    "version": 3
   },
   "file_extension": ".py",
   "mimetype": "text/x-python",
   "name": "python",
   "nbconvert_exporter": "python",
   "pygments_lexer": "ipython3",
   "version": "3.9.19"
  }
 },
 "nbformat": 4,
 "nbformat_minor": 5
}
